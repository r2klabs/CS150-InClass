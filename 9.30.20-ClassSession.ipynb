{
 "cells": [
  {
   "cell_type": "markdown",
   "metadata": {},
   "source": [
    "# Working with Lists - Part 3\n",
    "Sample lists: \n",
    "- 'lastName','firstName',  'timesAtBat', 'hits', 'homeRuns', 'runs', 'rbi', 'walks', 'years', 'careerTimesAtBat', 'careerHits', 'careerHomeRuns', 'careerRuns', 'careerRBI', 'careerWalks'\n",
    "- 'Balboni','Steve',512,117,29,54,88,43,6,1750,412,100,204,276,155\n",
    "- 'Bochte','Bruce',407,104,6,57,43,65,12,5233,1478,100,643,658,653\n",
    "- 'Bream','Sid',522,140,16,73,77,60,4,730,185,22,93,106,86"
   ]
  },
  {
   "cell_type": "code",
   "execution_count": null,
   "metadata": {},
   "outputs": [],
   "source": [
    "header = ['lastName','firstName', 'timesAtBat', 'hits', 'homeRuns', \n",
    "           'runs', 'rbi', 'walks', 'years', 'careerTimesAtBat', \n",
    "           'careerHits', 'careerHomeRuns', 'careerRuns', 'careerRBI', \n",
    "           'careerWalks']\n",
    "steve = ['Balboni','Steve',512,117,29,54,88,43,6,1750,412,100,204,276,155]\n",
    "bruce = ['Bochte','Bruce',407,104,6,57,43,65,12,5233,1478,100,643,658,653]\n",
    "sid = ['Bream','Sid',522,140,16,73,77,60,4,730,185,22,93,106,86]\n",
    "\n",
    "players =[\n",
    "        ('Balboni','Steve',[512,117,29,54,88,43,6,1750,412,100,204,276,155]),\n",
    "        ('Bochte','Bruce',[407,104,6,57,43,65,12,5233,1478,100,643,658,653]),\n",
    "        ('Bream','Sid',[522,140,16,73,77,60,4,730,185,22,93,106,86])    \n",
    "]"
   ]
  },
  {
   "cell_type": "code",
   "execution_count": null,
   "metadata": {},
   "outputs": [],
   "source": [
    "data = players[0][2]"
   ]
  },
  {
   "cell_type": "code",
   "execution_count": null,
   "metadata": {},
   "outputs": [],
   "source": [
    "#sum(data)\n",
    "sum(players[0][2])"
   ]
  },
  {
   "cell_type": "markdown",
   "metadata": {},
   "source": [
    "## Passing Lists to Functions\n",
    "This is a **very important** discussion - you have to be careful how you manipulate lists that you pass into/return from functions. Python passes functions as a pointer to memory, not the actual value (this is called pass by reference). If you change a list that you passed into a function, it changes the list in memory. This example below does this."
   ]
  },
  {
   "cell_type": "code",
   "execution_count": null,
   "metadata": {},
   "outputs": [],
   "source": [
    "data"
   ]
  },
  {
   "cell_type": "code",
   "execution_count": null,
   "metadata": {},
   "outputs": [],
   "source": [
    "def print_list(d):\n",
    "    d[0]=1001\n",
    "    for i in range(len(d)):\n",
    "        print(d[i], end=' ')"
   ]
  },
  {
   "cell_type": "code",
   "execution_count": null,
   "metadata": {},
   "outputs": [],
   "source": [
    "def print_list(d):\n",
    "    local_data = d.copy()\n",
    "    local_data[0]=1001\n",
    "    for i in range(len(local_data)):\n",
    "        print(local_data[i], end=' ')"
   ]
  },
  {
   "cell_type": "code",
   "execution_count": null,
   "metadata": {},
   "outputs": [],
   "source": [
    "print_list(data)"
   ]
  },
  {
   "cell_type": "code",
   "execution_count": null,
   "metadata": {},
   "outputs": [],
   "source": [
    "#local_data  <-- local_data is out of scope, this will not work."
   ]
  },
  {
   "cell_type": "code",
   "execution_count": null,
   "metadata": {},
   "outputs": [],
   "source": [
    "data"
   ]
  },
  {
   "cell_type": "markdown",
   "metadata": {},
   "source": [
    "## List Functions\n",
    "The list object contains numerous functions we can use that operate on lists.\n",
    "- **sort()**  I typically use sorted() - sort() permanently sorts.\n",
    "- **index()** - returns the index of item if it exists in the list\n",
    "- **insert()** -allows us to insert into the list at any location\n",
    "- **append()** -allows us to append a single element to the end of the list.\n",
    "- **extend()** -allows us to append several elements to the end of a list (in the form of a list)\n",
    "- **remove()** - removes an element from the list if it exists (first occurrence)\n",
    "- **clear()** - removes all elements from the list\n",
    "- **count()** - returns how many times a particular element appears in the list\n",
    "- **reverse()** - reverses a list (this is permanent like sort)\n",
    "- **copy()** - returns a copy of a list that is independent of the original list (it can be changed without changing the original list.\n",
    "\n",
    "These are not really functions, but logically belong with the others \n",
    "- **in / not in**  - returns True/False as to whether an element is in the list.\n",
    "- **any / all** - any returns true if any element in the list is true; all returns true if all elements are true"
   ]
  },
  {
   "cell_type": "code",
   "execution_count": null,
   "metadata": {},
   "outputs": [],
   "source": [
    "numbers = [36,76,89,76,34,56,23]"
   ]
  },
  {
   "cell_type": "code",
   "execution_count": null,
   "metadata": {},
   "outputs": [],
   "source": [
    "#numbers.sort() #<-- this will permanently sort your list - be careful using it."
   ]
  },
  {
   "cell_type": "markdown",
   "metadata": {},
   "source": [
    "**index()** - returns the index of item if it exists in the list - otherwise returns error message"
   ]
  },
  {
   "cell_type": "code",
   "execution_count": null,
   "metadata": {},
   "outputs": [],
   "source": [
    "numbers.index(89)"
   ]
  },
  {
   "cell_type": "markdown",
   "metadata": {},
   "source": [
    "**insert()** -allows us to insert into the list at any location (only 1 element)"
   ]
  },
  {
   "cell_type": "code",
   "execution_count": null,
   "metadata": {},
   "outputs": [],
   "source": [
    "numbers.insert(6,4096)"
   ]
  },
  {
   "cell_type": "markdown",
   "metadata": {},
   "source": [
    "**append()** -allows us to append a single element to the end of the list."
   ]
  },
  {
   "cell_type": "code",
   "execution_count": null,
   "metadata": {},
   "outputs": [],
   "source": [
    "numbers.append(1000)"
   ]
  },
  {
   "cell_type": "markdown",
   "metadata": {},
   "source": [
    "**extend()** -allows us to append several elements to the end of a list (in the form of a list)"
   ]
  },
  {
   "cell_type": "code",
   "execution_count": null,
   "metadata": {},
   "outputs": [],
   "source": [
    "numbers.extend([1000,10000,100000,1000000])"
   ]
  },
  {
   "cell_type": "markdown",
   "metadata": {},
   "source": [
    "**remove()** - removes an element from the list if it exists (first occurrence)"
   ]
  },
  {
   "cell_type": "code",
   "execution_count": null,
   "metadata": {},
   "outputs": [],
   "source": [
    "numbers.remove(1000)"
   ]
  },
  {
   "cell_type": "markdown",
   "metadata": {},
   "source": [
    "**clear()** - removes all elements from the list"
   ]
  },
  {
   "cell_type": "code",
   "execution_count": null,
   "metadata": {},
   "outputs": [],
   "source": [
    "#numbers.clear() <--the list will still be in memory, it will just be empty."
   ]
  },
  {
   "cell_type": "markdown",
   "metadata": {},
   "source": [
    "**count()** - returns how many times a particular element appears in the list"
   ]
  },
  {
   "cell_type": "code",
   "execution_count": null,
   "metadata": {},
   "outputs": [],
   "source": [
    "numbers.extend([1000,10000,100000,1000000])\n",
    "numbers.count(1000)"
   ]
  },
  {
   "cell_type": "markdown",
   "metadata": {},
   "source": [
    "**reverse()** - reverses a list (this is permanent like sort)"
   ]
  },
  {
   "cell_type": "code",
   "execution_count": null,
   "metadata": {},
   "outputs": [],
   "source": [
    "numbers.reverse()\n",
    "print(numbers)"
   ]
  },
  {
   "cell_type": "markdown",
   "metadata": {},
   "source": [
    "**copy()** - returns a copy of a list that is independent of the original list (it can be changed without changing the original list."
   ]
  },
  {
   "cell_type": "code",
   "execution_count": null,
   "metadata": {},
   "outputs": [],
   "source": [
    "n2 = numbers.copy()\n",
    "print(n2)"
   ]
  },
  {
   "cell_type": "markdown",
   "metadata": {},
   "source": [
    "**in / not in**  - returns True/False as to whether an element is in the list."
   ]
  },
  {
   "cell_type": "code",
   "execution_count": null,
   "metadata": {},
   "outputs": [],
   "source": [
    "if 1000 in numbers:\n",
    "    print(numbers)"
   ]
  },
  {
   "cell_type": "code",
   "execution_count": null,
   "metadata": {},
   "outputs": [],
   "source": [
    "if 1000 not in numbers:\n",
    "    print(numbers)"
   ]
  },
  {
   "cell_type": "markdown",
   "metadata": {},
   "source": [
    "**any / all** - any returns true if any element in the list is true; all returns true if all elements are true"
   ]
  },
  {
   "cell_type": "code",
   "execution_count": null,
   "metadata": {},
   "outputs": [],
   "source": [
    "booleans = [True,True,False]"
   ]
  },
  {
   "cell_type": "code",
   "execution_count": null,
   "metadata": {},
   "outputs": [],
   "source": [
    "any(booleans)"
   ]
  },
  {
   "cell_type": "code",
   "execution_count": null,
   "metadata": {},
   "outputs": [],
   "source": [
    "all(booleans)"
   ]
  }
 ],
 "metadata": {
  "kernelspec": {
   "display_name": "Python 3",
   "language": "python",
   "name": "python3"
  },
  "language_info": {
   "codemirror_mode": {
    "name": "ipython",
    "version": 3
   },
   "file_extension": ".py",
   "mimetype": "text/x-python",
   "name": "python",
   "nbconvert_exporter": "python",
   "pygments_lexer": "ipython3",
   "version": "3.8.5"
  },
  "toc": {
   "base_numbering": 1,
   "nav_menu": {},
   "number_sections": true,
   "sideBar": true,
   "skip_h1_title": false,
   "title_cell": "Table of Contents",
   "title_sidebar": "Contents",
   "toc_cell": false,
   "toc_position": {},
   "toc_section_display": true,
   "toc_window_display": false
  }
 },
 "nbformat": 4,
 "nbformat_minor": 4
}
