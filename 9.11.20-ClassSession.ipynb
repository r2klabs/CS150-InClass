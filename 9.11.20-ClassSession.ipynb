{
 "cells": [
  {
   "cell_type": "markdown",
   "metadata": {},
   "source": [
    "# Hands-On Practice/Various Topics"
   ]
  },
  {
   "cell_type": "markdown",
   "metadata": {},
   "source": [
    "We'll start with the program we were working on last time.  We are going to add a new feature to this version. Let's add calculating the MPG over a series of trips/gallons used."
   ]
  },
  {
   "cell_type": "code",
   "execution_count": null,
   "metadata": {},
   "outputs": [],
   "source": [
    "miles_driven = int(input(\"Enter the number of miles driven: \"))\n",
    "gallons_used = int(input(\"Enter the number of gallons used: \"))\n",
    "# The variables below are accumulator variables\n",
    "total_miles_driven = 0  \n",
    "total_gallons_used = 0\n",
    "\n",
    "while miles_driven > -1:\n",
    "    mpg = miles_driven/gallons_used\n",
    "    print(\"MPG is\", mpg)\n",
    "    #below we are accumulating the miles drive and gallons used\n",
    "    total_miles_driven += miles_driven\n",
    "    total_gallons_used += gallons_used\n",
    "    \n",
    "    miles_driven = int(input(\"Enter the number of miles driven: \"))\n",
    "    \n",
    "    if(miles_driven > -1):\n",
    "        gallons_used = int(input(\"Enter the number of gallons used: \"))\n",
    "\n",
    "total_mpg = total_miles_driven/total_gallons_used\n",
    "print(\"Total miles driven: \", total_miles_driven)\n",
    "print(\"Total gallons used: \", total_gallons_used)\n",
    "print(\"Total MPG is\", total_mpg)"
   ]
  },
  {
   "cell_type": "markdown",
   "metadata": {},
   "source": [
    "## Range function\n",
    "The range function can be used with three parameters (start, stop, step). That way you can write counter controlled loops that start where you want, stop where want and by a certain increment.  Below we are counting backwards from 100 to 0 by 5."
   ]
  },
  {
   "cell_type": "code",
   "execution_count": null,
   "metadata": {},
   "outputs": [],
   "source": [
    "for i in range(100,0,-5):\n",
    "    print(i, end=' ')"
   ]
  },
  {
   "cell_type": "code",
   "execution_count": null,
   "metadata": {},
   "outputs": [],
   "source": [
    "for i in range(10):\n",
    "    print(i, end= ' ')"
   ]
  },
  {
   "cell_type": "markdown",
   "metadata": {},
   "source": [
    "## f-Strings\n",
    "f-strings are a way to format data. As I mentioned in class - you this only controls the display. The actual data is not changed in any way."
   ]
  },
  {
   "cell_type": "code",
   "execution_count": null,
   "metadata": {},
   "outputs": [],
   "source": [
    "# Import to bring the constant for pi into the program.\n",
    "from math import pi"
   ]
  },
  {
   "cell_type": "code",
   "execution_count": null,
   "metadata": {},
   "outputs": [],
   "source": [
    "print(f'{pi:.50f}') # using an f-string"
   ]
  },
  {
   "cell_type": "code",
   "execution_count": null,
   "metadata": {},
   "outputs": [],
   "source": [
    "print(pi) # this will display a default number of digits of pi"
   ]
  },
  {
   "cell_type": "code",
   "execution_count": null,
   "metadata": {},
   "outputs": [],
   "source": [
    "pay = 456.53"
   ]
  },
  {
   "cell_type": "code",
   "execution_count": null,
   "metadata": {},
   "outputs": [],
   "source": [
    "print(f'{pay:.10f}')"
   ]
  },
  {
   "cell_type": "markdown",
   "metadata": {},
   "source": [
    "## Decimal class\n",
    "Due to the way computers represent floating point numbers, using the 'float' data type can lead to problems. If you need to ensure precision avoid rounding/representation errors, you can use the Decimal class."
   ]
  },
  {
   "cell_type": "code",
   "execution_count": null,
   "metadata": {},
   "outputs": [],
   "source": [
    "import decimal #imports everything in this package\n",
    "y = decimal.Decimal(('443.29'))\n",
    "print(y)"
   ]
  },
  {
   "cell_type": "code",
   "execution_count": null,
   "metadata": {},
   "outputs": [],
   "source": [
    "from decimal import Decimal #imports only the Decimal class\n",
    "y = Decimal('443.29')\n",
    "x = Decimal('230.323234')\n",
    "print(y,x)"
   ]
  },
  {
   "cell_type": "markdown",
   "metadata": {},
   "source": [
    "The nice thing about Decimal objects is that you can use traditional mathematical operators with them."
   ]
  },
  {
   "cell_type": "code",
   "execution_count": null,
   "metadata": {},
   "outputs": [],
   "source": [
    "x * y"
   ]
  },
  {
   "cell_type": "code",
   "execution_count": null,
   "metadata": {},
   "outputs": [],
   "source": [
    "x = 2343.434342346458600456802347234923497234972349\n",
    "print(f'{x:.10f}')"
   ]
  },
  {
   "cell_type": "markdown",
   "metadata": {},
   "source": [
    "**Addendum** \n",
    "Using Euler's number\n",
    "Not sure why I struggled with this in class, but here is the correct syntax to for Euler's number (e) in Python."
   ]
  },
  {
   "cell_type": "code",
   "execution_count": null,
   "metadata": {},
   "outputs": [],
   "source": [
    "from math import e"
   ]
  },
  {
   "cell_type": "code",
   "execution_count": null,
   "metadata": {},
   "outputs": [],
   "source": [
    "print(e)"
   ]
  }
 ],
 "metadata": {
  "kernelspec": {
   "display_name": "Python 3",
   "language": "python",
   "name": "python3"
  },
  "language_info": {
   "codemirror_mode": {
    "name": "ipython",
    "version": 3
   },
   "file_extension": ".py",
   "mimetype": "text/x-python",
   "name": "python",
   "nbconvert_exporter": "python",
   "pygments_lexer": "ipython3",
   "version": "3.8.5"
  },
  "toc": {
   "base_numbering": 1,
   "nav_menu": {},
   "number_sections": true,
   "sideBar": true,
   "skip_h1_title": false,
   "title_cell": "Table of Contents",
   "title_sidebar": "Contents",
   "toc_cell": false,
   "toc_position": {},
   "toc_section_display": true,
   "toc_window_display": false
  }
 },
 "nbformat": 4,
 "nbformat_minor": 4
}
