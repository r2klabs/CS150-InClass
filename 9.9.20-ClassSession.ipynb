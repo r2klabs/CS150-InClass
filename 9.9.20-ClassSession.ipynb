{
 "cells": [
  {
   "cell_type": "markdown",
   "metadata": {},
   "source": [
    "# Hands-On Practice \n",
    "In today's session, we did some hands-on practice to assemble a complete program using various control structures including if and while."
   ]
  },
  {
   "cell_type": "markdown",
   "metadata": {},
   "source": [
    "## Find the largest number\n",
    "First we started writing a small program to get three numbers from the user and then determine/print the largest of the three numbers. We started with this so we could build the core code that we could put in a while loop for more flexibility."
   ]
  },
  {
   "cell_type": "code",
   "execution_count": null,
   "metadata": {},
   "outputs": [],
   "source": [
    "a = int(input(\"Enter a number: \"))\n",
    "b = int(input(\"Enter a number: \"))\n",
    "c = int(input(\"Enter a number: \"))"
   ]
  },
  {
   "cell_type": "markdown",
   "metadata": {},
   "source": [
    "This is our core algorithm for comparing the values to determine the largest number."
   ]
  },
  {
   "cell_type": "code",
   "execution_count": null,
   "metadata": {},
   "outputs": [],
   "source": [
    "max_num = a\n",
    "if b > max_num:\n",
    "    max_num = b\n",
    "if c > max_num:\n",
    "    max_num = c\n",
    "\n",
    "print(max_num)"
   ]
  },
  {
   "cell_type": "markdown",
   "metadata": {},
   "source": [
    "Taking what did above, we integrated our code into a loop so we could get any number of numbers.  "
   ]
  },
  {
   "cell_type": "code",
   "execution_count": null,
   "metadata": {},
   "outputs": [],
   "source": [
    "current_num = int(input(\"Enter a number (-1 to quit): \"))  #priming read\n",
    "max_num = 0\n",
    "\n",
    "#while current_num != -1  <-- THIS IS ANOTHER CONDITION WE COULD USE FOR THE LOOP\n",
    "while current_num > -1:\n",
    "    if current_num > max_num:\n",
    "        max_num = current_num\n",
    "    \n",
    "    current_num = int(input(\"Enter a number (-1 to quit): \"))#must do this or we will have infinite loop.\n",
    "\n",
    "print(\"The largest number is \", max_num) "
   ]
  },
  {
   "cell_type": "markdown",
   "metadata": {},
   "source": [
    "## Calculate MPG\n",
    "This program is designed to get the number of miles driven and amount of gas used (in gallons) and calculate the MPG. The first iteration was the core functionality."
   ]
  },
  {
   "cell_type": "code",
   "execution_count": null,
   "metadata": {},
   "outputs": [],
   "source": [
    "miles_driven = int(input(\"Enter the number of miles driven: \"))\n",
    "gallons_used = int(input(\"Enter the number of gallons used: \"))\n",
    "mpg = miles_driven/gallons_used\n",
    "print(\"MPG is\", mpg)"
   ]
  },
  {
   "cell_type": "markdown",
   "metadata": {},
   "source": [
    "This iteration of our code integrates a while loop so we can continue getting input until the user enters < 0."
   ]
  },
  {
   "cell_type": "code",
   "execution_count": null,
   "metadata": {},
   "outputs": [],
   "source": [
    "miles_driven = int(input(\"Enter the number of miles driven: \"))\n",
    "gallons_used = int(input(\"Enter the number of gallons used: \"))\n",
    "\n",
    "while miles_driven > -1:\n",
    "    mpg = miles_driven/gallons_used\n",
    "    print(\"MPG is\", mpg)\n",
    "    \n",
    "    miles_driven = int(input(\"Enter the number of miles driven: \"))\n",
    "    \n",
    "    if(miles_driven > -1):\n",
    "        gallons_used = int(input(\"Enter the number of gallons used: \"))"
   ]
  }
 ],
 "metadata": {
  "kernelspec": {
   "display_name": "Python 3",
   "language": "python",
   "name": "python3"
  },
  "language_info": {
   "codemirror_mode": {
    "name": "ipython",
    "version": 3
   },
   "file_extension": ".py",
   "mimetype": "text/x-python",
   "name": "python",
   "nbconvert_exporter": "python",
   "pygments_lexer": "ipython3",
   "version": "3.8.3"
  },
  "toc": {
   "base_numbering": 1,
   "nav_menu": {},
   "number_sections": true,
   "sideBar": true,
   "skip_h1_title": false,
   "title_cell": "Table of Contents",
   "title_sidebar": "Contents",
   "toc_cell": false,
   "toc_position": {},
   "toc_section_display": true,
   "toc_window_display": false
  }
 },
 "nbformat": 4,
 "nbformat_minor": 4
}
