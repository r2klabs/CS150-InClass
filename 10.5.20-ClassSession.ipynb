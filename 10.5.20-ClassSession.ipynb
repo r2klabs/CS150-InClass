{
 "cells": [
  {
   "cell_type": "markdown",
   "metadata": {},
   "source": [
    "# Working with Lists - Part 6\n",
    "The light and the end of the tunnel."
   ]
  },
  {
   "cell_type": "code",
   "execution_count": null,
   "metadata": {},
   "outputs": [],
   "source": [
    "header = ['lastName','firstName', 'timesAtBat', 'hits', 'homeRuns', \n",
    "           'runs', 'rbi', 'walks', 'years', 'careerTimesAtBat', \n",
    "           'careerHits', 'careerHomeRuns', 'careerRuns', 'careerRBI', \n",
    "           'careerWalks']\n",
    "steve = ['Balboni','Steve',512,117,29,54,88,43,6,1750,412,100,204,276,155]\n",
    "bruce = ['Bochte','Bruce',407,104,6,57,43,65,12,5233,1478,100,643,658,653]\n",
    "sid = ['Bream','Sid',522,140,16,73,77,60,4,730,185,22,93,106,86]\n",
    "\n",
    "players =[\n",
    "        ('Balboni','Steve',[512,117,29,54,88,43,6,1750,412,100,204,276,155]),\n",
    "        ('Bochte','Bruce',[407,104,6,57,43,65,12,5233,1478,100,643,658,653]),\n",
    "        ('Bream','Sid',[522,140,16,73,77,60,4,730,185,22,93,106,86])    \n",
    "]"
   ]
  },
  {
   "cell_type": "code",
   "execution_count": null,
   "metadata": {},
   "outputs": [],
   "source": [
    "data = players[2][2]"
   ]
  },
  {
   "cell_type": "markdown",
   "metadata": {},
   "source": [
    "## Filter/Map (we won't use reduce)\n",
    "You can filter data from a list or map it to something else with filter and map.\n",
    "### Filter \n",
    "The code below shows how the filter function can accept a function and list. It will then return a list with filter applied to each element of the list."
   ]
  },
  {
   "cell_type": "code",
   "execution_count": null,
   "metadata": {},
   "outputs": [],
   "source": [
    "def greater_fiveh(x):\n",
    "    if x>500:\n",
    "        return True"
   ]
  },
  {
   "cell_type": "code",
   "execution_count": null,
   "metadata": {},
   "outputs": [],
   "source": [
    "data"
   ]
  },
  {
   "cell_type": "code",
   "execution_count": null,
   "metadata": {},
   "outputs": [],
   "source": [
    "list(filter(greater_fiveh,data))"
   ]
  },
  {
   "cell_type": "markdown",
   "metadata": {},
   "source": [
    "### Map\n",
    "The code below shows how the **map** function can accept a function and list. It will then return a list with map applied to each element of the list. In this example - we are mapping radii to areas"
   ]
  },
  {
   "cell_type": "code",
   "execution_count": null,
   "metadata": {},
   "outputs": [],
   "source": [
    "from math import pi"
   ]
  },
  {
   "cell_type": "code",
   "execution_count": null,
   "metadata": {},
   "outputs": [],
   "source": [
    "def calc_area(r):\n",
    "    return pi * r**2"
   ]
  },
  {
   "cell_type": "code",
   "execution_count": null,
   "metadata": {},
   "outputs": [],
   "source": [
    "radii = [10,20,34,23,67,55,87,98]"
   ]
  },
  {
   "cell_type": "code",
   "execution_count": null,
   "metadata": {},
   "outputs": [],
   "source": [
    "list(map(calc_area,radii))"
   ]
  },
  {
   "cell_type": "markdown",
   "metadata": {},
   "source": [
    "## Lambdas\n",
    "Map radii to areas using lambda instead - this works for one-line functions, but if you need more complicated processing, write the function and pass that to the map."
   ]
  },
  {
   "cell_type": "code",
   "execution_count": null,
   "metadata": {},
   "outputs": [],
   "source": [
    "list(map(lambda r: pi *r**2,radii))"
   ]
  },
  {
   "cell_type": "markdown",
   "metadata": {},
   "source": [
    "Lambdas can be used in the filter function as well."
   ]
  },
  {
   "cell_type": "code",
   "execution_count": null,
   "metadata": {},
   "outputs": [],
   "source": [
    "list(filter(lambda r: r>50,radii))"
   ]
  },
  {
   "cell_type": "markdown",
   "metadata": {},
   "source": [
    "## Two-Dimensional Lists\n",
    "Python supports two-dimensional lists (list of lists). In this sample, let's make a list of lists for population growth over time."
   ]
  },
  {
   "cell_type": "code",
   "execution_count": null,
   "metadata": {},
   "outputs": [],
   "source": [
    "population = [\n",
    "    [106,107,111,133,221,767,1766],\n",
    "    [502,635,809,947,1402,3634,5268],\n",
    "    [2,2,2,6,13,30,46],\n",
    "    [163,203,276,408,547,729,628],\n",
    "    [2,7,26,82,172,307,392],\n",
    "    [16,24,38,74,167,511,809]    \n",
    "]\n",
    "continents =['Africa','Asia','Australia','Europe','North America','South America']\n",
    "header = ['Continent','1750','1800','1850','1900','1950','2000','2050']"
   ]
  },
  {
   "cell_type": "markdown",
   "metadata": {},
   "source": [
    "Build a table with a two-dimensional list and nested for loops. I had to play arround with the values to get all of this to work. Still not perfect."
   ]
  },
  {
   "cell_type": "code",
   "execution_count": null,
   "metadata": {},
   "outputs": [],
   "source": [
    "for h in header:\n",
    "    print(\"%13s\" % h, end=' ')\n",
    "print()\n",
    "\n",
    "for i in range(6):\n",
    "    print(\"%13s\" % continents[i], end=' ')\n",
    "    for j in range(7):\n",
    "        print(\"%14s\" % population[i][j], end=' ')\n",
    "    print()"
   ]
  },
  {
   "cell_type": "markdown",
   "metadata": {},
   "source": [
    "Here is a version using PrettyTable. Look at the 10/7 notebook for discussion about a 'bug' with this code."
   ]
  },
  {
   "cell_type": "code",
   "execution_count": null,
   "metadata": {},
   "outputs": [],
   "source": [
    "from prettytable import PrettyTable"
   ]
  },
  {
   "cell_type": "code",
   "execution_count": null,
   "metadata": {},
   "outputs": [],
   "source": [
    "tab = PrettyTable()\n",
    "tab.field_names = header\n",
    "\n",
    "for h in header:\n",
    "    tab.align[h]='r'\n",
    "\n",
    "for i in range(len(pop2)):\n",
    "    population[i].insert(0,continents[i])\n",
    "    tab.add_row(population[i])\n",
    "    \n",
    "print(tab)"
   ]
  },
  {
   "cell_type": "code",
   "execution_count": null,
   "metadata": {},
   "outputs": [],
   "source": [
    "population"
   ]
  },
  {
   "cell_type": "markdown",
   "metadata": {},
   "source": [
    "## Zipping\n",
    "- first_names = ['Steve','Bruce','Sid']\n",
    "- last_names = ['Balboni','Bochte','Bream']\n",
    "- home_runs = [29,6,16]\n",
    "The zip() function lets you collect parallel lists and merge them into a list of tuples."
   ]
  },
  {
   "cell_type": "code",
   "execution_count": null,
   "metadata": {},
   "outputs": [],
   "source": [
    "first_names = ['Steve','Bruce','Sid','Anthony']\n",
    "last_names = ['Balboni','Bochte','Bream']\n",
    "home_runs = [29,6,16,17]"
   ]
  },
  {
   "cell_type": "code",
   "execution_count": null,
   "metadata": {},
   "outputs": [],
   "source": [
    "list(zip(first_names,last_names,home_runs))"
   ]
  }
 ],
 "metadata": {
  "kernelspec": {
   "display_name": "Python 3",
   "language": "python",
   "name": "python3"
  },
  "language_info": {
   "codemirror_mode": {
    "name": "ipython",
    "version": 3
   },
   "file_extension": ".py",
   "mimetype": "text/x-python",
   "name": "python",
   "nbconvert_exporter": "python",
   "pygments_lexer": "ipython3",
   "version": "3.8.5"
  },
  "toc": {
   "base_numbering": 1,
   "nav_menu": {},
   "number_sections": true,
   "sideBar": true,
   "skip_h1_title": false,
   "title_cell": "Table of Contents",
   "title_sidebar": "Contents",
   "toc_cell": false,
   "toc_position": {},
   "toc_section_display": true,
   "toc_window_display": false
  }
 },
 "nbformat": 4,
 "nbformat_minor": 4
}
