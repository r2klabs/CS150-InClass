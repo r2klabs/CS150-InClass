{
 "cells": [
  {
   "cell_type": "markdown",
   "metadata": {},
   "source": [
    "# Working with Lists - Part 5\n",
    "Sample lists: \n",
    "- 'lastName','firstName',  'timesAtBat', 'hits', 'homeRuns', 'runs', 'rbi', 'walks', 'years', 'careerTimesAtBat', 'careerHits', 'careerHomeRuns', 'careerRuns', 'careerRBI', 'careerWalks'\n",
    "- 'Balboni','Steve',512,117,29,54,88,43,6,1750,412,100,204,276,155\n",
    "- 'Bochte','Bruce',407,104,6,57,43,65,12,5233,1478,100,643,658,653\n",
    "- 'Bream','Sid',522,140,16,73,77,60,4,730,185,22,93,106,86"
   ]
  },
  {
   "cell_type": "code",
   "execution_count": null,
   "metadata": {},
   "outputs": [],
   "source": [
    "header = ['lastName','firstName', 'timesAtBat', 'hits', 'homeRuns', \n",
    "           'runs', 'rbi', 'walks', 'years', 'careerTimesAtBat', \n",
    "           'careerHits', 'careerHomeRuns', 'careerRuns', 'careerRBI', \n",
    "           'careerWalks']\n",
    "steve = ['Balboni','Steve',512,117,29,54,88,43,6,1750,412,100,204,276,155]\n",
    "bruce = ['Bochte','Bruce',407,104,6,57,43,65,12,5233,1478,100,643,658,653]\n",
    "sid = ['Bream','Sid',522,140,16,73,77,60,4,730,185,22,93,106,86]\n",
    "\n",
    "players =[\n",
    "        ('Balboni','Steve',[512,117,29,54,88,43,6,1750,412,100,204,276,155]),\n",
    "        ('Bochte','Bruce',[407,104,6,57,43,65,12,5233,1478,100,643,658,653]),\n",
    "        ('Bream','Sid',[522,140,16,73,77,60,4,730,185,22,93,106,86])    \n",
    "]"
   ]
  },
  {
   "cell_type": "code",
   "execution_count": null,
   "metadata": {},
   "outputs": [],
   "source": [
    "data = players[0][2]"
   ]
  },
  {
   "cell_type": "markdown",
   "metadata": {},
   "source": [
    "## Iterating through sequences\n",
    "Here are two ways to iterate through a list or a sequence. The first is preferred, the second works, but is not as efficient or flexible."
   ]
  },
  {
   "cell_type": "code",
   "execution_count": null,
   "metadata": {
    "scrolled": true
   },
   "outputs": [],
   "source": [
    "for column_name in header:\n",
    "    print(column_name, end=' ')"
   ]
  },
  {
   "cell_type": "markdown",
   "metadata": {},
   "source": [
    "This is not wrong - but its not as flexible as the previous example."
   ]
  },
  {
   "cell_type": "code",
   "execution_count": null,
   "metadata": {},
   "outputs": [],
   "source": [
    "for i in range(15):\n",
    "    print(header[i], end=' ')"
   ]
  },
  {
   "cell_type": "markdown",
   "metadata": {},
   "source": [
    "## List Comprehensions\n",
    "One of the most powerful features of a Python are list comprehensions which can be used to write one-line expressions that can create or manipulate lists. Using list comprehension, we can accomplish similar functionality as the previous section more succinctly."
   ]
  },
  {
   "cell_type": "code",
   "execution_count": null,
   "metadata": {},
   "outputs": [],
   "source": [
    "[len(h) for h in header]"
   ]
  },
  {
   "cell_type": "code",
   "execution_count": null,
   "metadata": {},
   "outputs": [],
   "source": [
    "[(d*2)/10 for d in data]"
   ]
  },
  {
   "cell_type": "code",
   "execution_count": null,
   "metadata": {},
   "outputs": [],
   "source": [
    "my_list = list()\n",
    "for d in data:\n",
    "    my_list.append(d*2)\n",
    "\n",
    "my_list"
   ]
  },
  {
   "cell_type": "markdown",
   "metadata": {},
   "source": [
    "Import randint so we can generate random numbers in list comprehension."
   ]
  },
  {
   "cell_type": "code",
   "execution_count": null,
   "metadata": {},
   "outputs": [],
   "source": [
    "from random import randint"
   ]
  },
  {
   "cell_type": "code",
   "execution_count": null,
   "metadata": {},
   "outputs": [],
   "source": [
    "ratings = [randint(1, 10) for _ in range(1,1001)]\n",
    "for i in range(1, 11):\n",
    "    print(\"{}: {} occurences\".format(i, ratings.count(i)))"
   ]
  },
  {
   "cell_type": "markdown",
   "metadata": {},
   "source": [
    "## Generator Expressions\n",
    "Similar to a list comprehension, but creates an iterable generator object that produces values on demand. This is more memory efficient than a list comprehension because doesn't use any memory to store the list."
   ]
  },
  {
   "cell_type": "code",
   "execution_count": null,
   "metadata": {},
   "outputs": [],
   "source": [
    "num_cube_lc=[n**3 for n in range(1,11) if n%2==0] "
   ]
  },
  {
   "cell_type": "code",
   "execution_count": null,
   "metadata": {},
   "outputs": [],
   "source": [
    "num_cube_lc"
   ]
  },
  {
   "cell_type": "code",
   "execution_count": null,
   "metadata": {},
   "outputs": [],
   "source": [
    "num_cube_lc=[n**3 for n in range(1,11) if n%2==0]    #List Comprehension\n",
    "num_cube_generator=(num**3 for num in range(1,11) if num%2==0)  #Generator Expression (doesn't run until used - lazy evaluation)\n",
    "\n",
    "print(f\"List Comprehension = {num_cube_lc}\")\n",
    "print(f\"Generator Expression = {num_cube_generator}\")\n",
    "\n",
    "#sum(num_cube_generator)\n",
    "print(f\"Sum = {sum(num_cube_generator)}\")"
   ]
  },
  {
   "cell_type": "markdown",
   "metadata": {},
   "source": [
    "## Filter/Map (we won't use reduce)\n",
    "You can filter data from a list or map it to something else with filter and map."
   ]
  },
  {
   "cell_type": "code",
   "execution_count": null,
   "metadata": {},
   "outputs": [],
   "source": [
    "def greater_fiveh(x):\n",
    "    if x>500:\n",
    "        return True"
   ]
  },
  {
   "cell_type": "code",
   "execution_count": null,
   "metadata": {},
   "outputs": [],
   "source": [
    "list(filter(greater_fiveh,data))"
   ]
  }
 ],
 "metadata": {
  "kernelspec": {
   "display_name": "Python 3",
   "language": "python",
   "name": "python3"
  },
  "language_info": {
   "codemirror_mode": {
    "name": "ipython",
    "version": 3
   },
   "file_extension": ".py",
   "mimetype": "text/x-python",
   "name": "python",
   "nbconvert_exporter": "python",
   "pygments_lexer": "ipython3",
   "version": "3.8.5"
  },
  "toc": {
   "base_numbering": 1,
   "nav_menu": {},
   "number_sections": true,
   "sideBar": true,
   "skip_h1_title": false,
   "title_cell": "Table of Contents",
   "title_sidebar": "Contents",
   "toc_cell": false,
   "toc_position": {},
   "toc_section_display": true,
   "toc_window_display": false
  }
 },
 "nbformat": 4,
 "nbformat_minor": 4
}
