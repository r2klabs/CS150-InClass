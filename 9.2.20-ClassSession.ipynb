{
 "cells": [
  {
   "cell_type": "markdown",
   "metadata": {},
   "source": [
    "# September 2, 2020 - Class Session Notebook"
   ]
  },
  {
   "cell_type": "markdown",
   "metadata": {},
   "source": [
    "<=   #less than or equal to\n",
    "\n",
    ">=  #greater than or equal to\n",
    "\n",
    "== # equal to\n",
    "\n",
    "!= #not equal to"
   ]
  },
  {
   "cell_type": "markdown",
   "metadata": {},
   "source": [
    "### This is a single-sided if"
   ]
  },
  {
   "cell_type": "code",
   "execution_count": 10,
   "metadata": {},
   "outputs": [
    {
     "name": "stdout",
     "output_type": "stream",
     "text": [
      "X is 10\n",
      "Y is 13\n"
     ]
    }
   ],
   "source": [
    "x=10\n",
    "y=13\n",
    "if x>=12 or y<=20:\n",
    "    print(\"X is\",x)\n",
    "    print(\"Y is\", y)"
   ]
  },
  {
   "cell_type": "markdown",
   "metadata": {},
   "source": [
    "### This is a double-sided if"
   ]
  },
  {
   "cell_type": "code",
   "execution_count": 22,
   "metadata": {},
   "outputs": [
    {
     "name": "stdout",
     "output_type": "stream",
     "text": [
      "7\n",
      "thor\n"
     ]
    }
   ],
   "source": [
    "a=7\n",
    "b=5\n",
    "c=11\n",
    "if (a>=b and a>=10) or (c>=10 and b<=19):\n",
    "    print(a)\n",
    "else:\n",
    "    print(b)"
   ]
  },
  {
   "cell_type": "code",
   "execution_count": 25,
   "metadata": {},
   "outputs": [
    {
     "name": "stdout",
     "output_type": "stream",
     "text": [
      "thor\n"
     ]
    }
   ],
   "source": [
    "name = \"thor\"\n",
    "if name==\"thor\" and \"captain america\":\n",
    "    print(name)"
   ]
  },
  {
   "cell_type": "code",
   "execution_count": 27,
   "metadata": {},
   "outputs": [
    {
     "name": "stdout",
     "output_type": "stream",
     "text": [
      "Enter your name: thor\n",
      "thor\n"
     ]
    }
   ],
   "source": [
    "name = input(\"Enter your name: \")\n",
    "if name==\"thor\":\n",
    "    print(name)"
   ]
  },
  {
   "cell_type": "code",
   "execution_count": 31,
   "metadata": {},
   "outputs": [
    {
     "name": "stdout",
     "output_type": "stream",
     "text": [
      "It is true\n"
     ]
    }
   ],
   "source": [
    "g = False\n",
    "if not g:\n",
    "    print(\"It is true\")"
   ]
  },
  {
   "cell_type": "markdown",
   "metadata": {},
   "source": [
    "### This is a nested decision structure"
   ]
  },
  {
   "cell_type": "code",
   "execution_count": 35,
   "metadata": {},
   "outputs": [
    {
     "name": "stdout",
     "output_type": "stream",
     "text": [
      "Enter a number: 67\n",
      "67\n"
     ]
    }
   ],
   "source": [
    "h = int(input(\"Enter a number: \"))\n",
    "\n",
    "if h>100:\n",
    "    print(\"Greater than 100\")\n",
    "elif h>90:\n",
    "    print(\"Greater than 90\")\n",
    "elif h>80:\n",
    "    print(\"Greater than 80\")\n",
    "else:\n",
    "    print(h)"
   ]
  },
  {
   "cell_type": "code",
   "execution_count": null,
   "metadata": {},
   "outputs": [],
   "source": []
  }
 ],
 "metadata": {
  "kernelspec": {
   "display_name": "Python 3",
   "language": "python",
   "name": "python3"
  },
  "language_info": {
   "codemirror_mode": {
    "name": "ipython",
    "version": 3
   },
   "file_extension": ".py",
   "mimetype": "text/x-python",
   "name": "python",
   "nbconvert_exporter": "python",
   "pygments_lexer": "ipython3",
   "version": "3.7.1"
  },
  "toc": {
   "base_numbering": 1,
   "nav_menu": {},
   "number_sections": true,
   "sideBar": true,
   "skip_h1_title": false,
   "title_cell": "Table of Contents",
   "title_sidebar": "Contents",
   "toc_cell": false,
   "toc_position": {},
   "toc_section_display": true,
   "toc_window_display": false
  }
 },
 "nbformat": 4,
 "nbformat_minor": 4
}
