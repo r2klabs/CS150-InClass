{
 "cells": [
  {
   "cell_type": "markdown",
   "metadata": {},
   "source": [
    "# Working with Strings\n",
    "Strings are so important in Python that they merit a second look. For the next two class sessions, we will look at several different functions and formatting options that will improve your string-fu!"
   ]
  },
  {
   "cell_type": "markdown",
   "metadata": {},
   "source": [
    "Let's declare some variables to work with."
   ]
  },
  {
   "cell_type": "code",
   "execution_count": 1,
   "metadata": {},
   "outputs": [],
   "source": [
    "fpn = 3.78\n",
    "integer = 1897\n",
    "long_integer = 8423490834\n",
    "character = 'Q'\n",
    "string = 'In Xanadu did Kubla Khan \\n A stately pleasure-dome decree:'"
   ]
  },
  {
   "cell_type": "markdown",
   "metadata": {},
   "source": [
    "## Formatting Strings\n",
    "Proper text formatting makes data easier to read and understand. First,let's review f-strings.\n",
    "- Floating point numbers\n",
    "- Integers\n",
    "- Characters\n",
    "- Strings"
   ]
  },
  {
   "cell_type": "code",
   "execution_count": 2,
   "metadata": {},
   "outputs": [
    {
     "name": "stdout",
     "output_type": "stream",
     "text": [
      "                 56343.32\n",
      "                   564.33\n"
     ]
    }
   ],
   "source": [
    "print(f'{56343.32343:25.2f}')\n",
    "print(f'{564.33443:25.2f}')"
   ]
  },
  {
   "cell_type": "code",
   "execution_count": 3,
   "metadata": {},
   "outputs": [
    {
     "name": "stdout",
     "output_type": "stream",
     "text": [
      "      1897\n",
      "        12\n"
     ]
    }
   ],
   "source": [
    "print(f'{integer:10d}')\n",
    "print(f'{12:10d}')\n"
   ]
  },
  {
   "cell_type": "code",
   "execution_count": 4,
   "metadata": {},
   "outputs": [
    {
     "data": {
      "text/plain": [
       "'In Xanadu did Kubla Khan \\n A stately pleasure-dome decree:'"
      ]
     },
     "execution_count": 4,
     "metadata": {},
     "output_type": "execute_result"
    }
   ],
   "source": [
    "f'{string:s}'"
   ]
  },
  {
   "cell_type": "markdown",
   "metadata": {},
   "source": [
    "### Floating-point numbers and Decimal values\n",
    "- Need to import Decimal."
   ]
  },
  {
   "cell_type": "code",
   "execution_count": 33,
   "metadata": {},
   "outputs": [],
   "source": [
    "from decimal import Decimal"
   ]
  },
  {
   "cell_type": "code",
   "execution_count": 48,
   "metadata": {},
   "outputs": [
    {
     "data": {
      "text/plain": [
       "'393243423423499'"
      ]
     },
     "execution_count": 48,
     "metadata": {},
     "output_type": "execute_result"
    }
   ],
   "source": [
    "f'{Decimal(393243423423499.25):.0f}'"
   ]
  },
  {
   "cell_type": "markdown",
   "metadata": {},
   "source": [
    "### Field Widths and Alignment\n",
    "Sometimes we want to set the number of characters in a string/number  and align data. We do this by preceding our format specifier with the width and the > or < signs"
   ]
  },
  {
   "cell_type": "code",
   "execution_count": 5,
   "metadata": {},
   "outputs": [
    {
     "name": "stdout",
     "output_type": "stream",
     "text": [
      "   Pasteur Hall\n",
      "        Library\n",
      "         Centro\n",
      "   Knights Hall\n",
      "   Pasteur Hall\n",
      "        Library\n",
      "         Centro\n",
      "   Knights Hall\n"
     ]
    }
   ],
   "source": [
    "names = ['Pasteur Hall', 'Library','Centro','Knights Hall']\n",
    "\n",
    "for n in names:\n",
    "    print(f'{n:>15s}')\n",
    "    \n",
    "[print(f'{n:>15s}') for n in names]\n",
    "\n",
    "mylist2 = [10*8 for n in names]\n",
    "\n",
    "#print(f'text{integer:<10d}text')"
   ]
  },
  {
   "cell_type": "code",
   "execution_count": 6,
   "metadata": {},
   "outputs": [
    {
     "data": {
      "text/plain": [
       "[80, 80, 80, 80]"
      ]
     },
     "execution_count": 6,
     "metadata": {},
     "output_type": "execute_result"
    }
   ],
   "source": [
    "mylist2"
   ]
  },
  {
   "cell_type": "code",
   "execution_count": null,
   "metadata": {},
   "outputs": [],
   "source": []
  },
  {
   "cell_type": "markdown",
   "metadata": {},
   "source": [
    "### Numeric Formatting\n",
    "- +/- numbers\n",
    "- grouping digits"
   ]
  },
  {
   "cell_type": "code",
   "execution_count": 7,
   "metadata": {},
   "outputs": [
    {
     "name": "stdout",
     "output_type": "stream",
     "text": [
      "-2343\n"
     ]
    }
   ],
   "source": [
    "print(f'{-2343:+d}')"
   ]
  },
  {
   "cell_type": "code",
   "execution_count": 8,
   "metadata": {},
   "outputs": [
    {
     "data": {
      "text/plain": [
       "'8,423,490,834'"
      ]
     },
     "execution_count": 8,
     "metadata": {},
     "output_type": "execute_result"
    }
   ],
   "source": [
    "f'{long_integer:,d}'"
   ]
  }
 ],
 "metadata": {
  "kernelspec": {
   "display_name": "Python 3",
   "language": "python",
   "name": "python3"
  },
  "language_info": {
   "codemirror_mode": {
    "name": "ipython",
    "version": 3
   },
   "file_extension": ".py",
   "mimetype": "text/x-python",
   "name": "python",
   "nbconvert_exporter": "python",
   "pygments_lexer": "ipython3",
   "version": "3.8.5"
  },
  "toc": {
   "base_numbering": 1,
   "nav_menu": {},
   "number_sections": true,
   "sideBar": true,
   "skip_h1_title": false,
   "title_cell": "Table of Contents",
   "title_sidebar": "Contents",
   "toc_cell": false,
   "toc_position": {},
   "toc_section_display": true,
   "toc_window_display": false
  }
 },
 "nbformat": 4,
 "nbformat_minor": 4
}
