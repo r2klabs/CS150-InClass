{
 "cells": [
  {
   "cell_type": "markdown",
   "metadata": {},
   "source": [
    "# Working with Lists - Part 6b\n",
    "The light and the end of the tunnel - but first, a subtle bug!"
   ]
  },
  {
   "cell_type": "markdown",
   "metadata": {},
   "source": [
    "## Two-Dimensional Lists\n",
    "Python supports two-dimensional lists (list of lists). In this sample, let's make a list of lists for population growth over time."
   ]
  },
  {
   "cell_type": "code",
   "execution_count": null,
   "metadata": {},
   "outputs": [],
   "source": [
    "population = [\n",
    "    [106,107,111,133,221,767,1766],\n",
    "    [502,635,809,947,1402,3634,5268],\n",
    "    [2,2,2,6,13,30,46],\n",
    "    [163,203,276,408,547,729,628],\n",
    "    [2,7,26,82,172,307,392],\n",
    "    [16,24,38,74,167,511,809]    \n",
    "]\n",
    "continents =['Africa','Asia','Australia','Europe','North America','South America']\n",
    "header = ['Continent','1750','1800','1850','1900','1950','2000','2050']"
   ]
  },
  {
   "cell_type": "markdown",
   "metadata": {},
   "source": [
    "We did a quick example last class of building a table with PrettyTable.  **But** I found a subtle bug! "
   ]
  },
  {
   "cell_type": "code",
   "execution_count": null,
   "metadata": {},
   "outputs": [],
   "source": [
    "from prettytable import PrettyTable"
   ]
  },
  {
   "cell_type": "code",
   "execution_count": null,
   "metadata": {},
   "outputs": [],
   "source": [
    "pop = population.copy()  #copy the list so we don't change the original list\n",
    "\n",
    "tab = PrettyTable()\n",
    "tab.field_names = header\n",
    "\n",
    "for h in header:\n",
    "    tab.align[h]='r'\n",
    "\n",
    "for i in range(len(pop)):\n",
    "    pop[i].insert(0,continents[i])\n",
    "    tab.add_row(pop[i])\n",
    "    \n",
    "print(tab)"
   ]
  },
  {
   "cell_type": "markdown",
   "metadata": {},
   "source": [
    "Everything looks great.  But, look at the value of the population list:"
   ]
  },
  {
   "cell_type": "code",
   "execution_count": null,
   "metadata": {},
   "outputs": [],
   "source": [
    "population"
   ]
  },
  {
   "cell_type": "markdown",
   "metadata": {},
   "source": [
    "Drat! That's not supposed to happen!  So, I investigated with a regular list. . ."
   ]
  },
  {
   "cell_type": "code",
   "execution_count": null,
   "metadata": {},
   "outputs": [],
   "source": [
    "numbers = [40,50,60,70,80]\n",
    "print(numbers)\n",
    "numbers2 = numbers.copy()\n",
    "numbers2.extend([90,100,110])\n",
    "print(numbers2)\n",
    "print(numbers)"
   ]
  },
  {
   "cell_type": "markdown",
   "metadata": {},
   "source": [
    "Everything works - weird!  First, I'm gonna reset population:"
   ]
  },
  {
   "cell_type": "code",
   "execution_count": null,
   "metadata": {},
   "outputs": [],
   "source": [
    "population = [\n",
    "    [106,107,111,133,221,767,1766],\n",
    "    [502,635,809,947,1402,3634,5268],\n",
    "    [2,2,2,6,13,30,46],\n",
    "    [163,203,276,408,547,729,628],\n",
    "    [2,7,26,82,172,307,392],\n",
    "    [16,24,38,74,167,511,809]    \n",
    "]"
   ]
  },
  {
   "cell_type": "markdown",
   "metadata": {},
   "source": [
    "Turns out, I can't copy the whole list at once - I must do it row by row (remember, each row is a list)."
   ]
  },
  {
   "cell_type": "code",
   "execution_count": null,
   "metadata": {},
   "outputs": [],
   "source": [
    "#pop = population.copy()  #copy the list so we don't change the original list\n",
    "\n",
    "tab = PrettyTable()\n",
    "tab.field_names = header\n",
    "\n",
    "for h in header:\n",
    "    tab.align[h]='r'\n",
    "\n",
    "for i in range(len(population)):\n",
    "    temp = population[i].copy()\n",
    "    temp.insert(0,continents[i])\n",
    "    tab.add_row(temp)\n",
    "    \n",
    "print(tab)"
   ]
  },
  {
   "cell_type": "markdown",
   "metadata": {},
   "source": [
    "Now let's see what happens"
   ]
  },
  {
   "cell_type": "code",
   "execution_count": null,
   "metadata": {},
   "outputs": [],
   "source": [
    "population"
   ]
  },
  {
   "cell_type": "markdown",
   "metadata": {},
   "source": [
    "# Working with Dictionaries\n",
    "Dictionaries are data structures that have a key/value for every entry.\n",
    "\n",
    "Unlike strings, lists, and tuples, **dictionaries are not sequences** - the data are not stored in order. I found this list of MLB teams. I am going to make a dictionary from it."
   ]
  },
  {
   "cell_type": "code",
   "execution_count": null,
   "metadata": {},
   "outputs": [],
   "source": [
    "raw = [\n",
    "    ('Arizona','Diamondbacks'),\n",
    "    ('Atlanta','Braves'),\n",
    "    ('Baltimore','Orioles'),\n",
    "    ('Boston','Red Sox'),\n",
    "    ('Cincinnati','Reds'),\n",
    "    ('Cleveland','Indians'),\n",
    "    ('Colorado','Rockies'),\n",
    "    ('Detroit','Tigers'),\n",
    "    ('Houston','Astros'),\n",
    "    ('Kansas City','Royals'),\n",
    "    ('Miami','Marlins'),\n",
    "    ('Milwaukee','Brewers'),\n",
    "    ('Minnesota','Twins'),\n",
    "    ('Oakland','Athletics'),\n",
    "    ('Philadelphia','Phillies'),\n",
    "    ('Pittsburgh','Pirates'),\n",
    "    ('San Diego','Padres'),\n",
    "    ('San Francisco','Giants'),\n",
    "    ('Seattle','Mariners'),\n",
    "    ('St. Louis','Cardinals'),\n",
    "    ('Tampa Bay','Rays'),\n",
    "    ('Texas','Rangers'),\n",
    "    ('Toronto','Blue Jays'),\n",
    "    ('Washington','Nationals'),\n",
    "    ('Chicago','White Sox'),\n",
    "    ('Chicago','Cubs'),\n",
    "    ('Los Angeles','Angels'),\n",
    "    ('Los Angeles','Dodgers'),\n",
    "    ('New York','Yankees'),\n",
    "    ('New York','Mets')]\n",
    "   "
   ]
  },
  {
   "cell_type": "markdown",
   "metadata": {},
   "source": [
    "Create a simple dictionary from scratch. First, with an empty dictionary."
   ]
  },
  {
   "cell_type": "code",
   "execution_count": null,
   "metadata": {},
   "outputs": [],
   "source": [
    "teams = dict()\n",
    "teams['Arizona']='Diamondbacks'\n",
    "teams['Atlanta']='Braves'"
   ]
  },
  {
   "cell_type": "code",
   "execution_count": null,
   "metadata": {},
   "outputs": [],
   "source": [
    "teams"
   ]
  },
  {
   "cell_type": "code",
   "execution_count": null,
   "metadata": {},
   "outputs": [],
   "source": [
    "type(teams)"
   ]
  },
  {
   "cell_type": "markdown",
   "metadata": {},
   "source": [
    "Create a simple dictionary from scratch with a curly braces and comma-separated list."
   ]
  },
  {
   "cell_type": "code",
   "execution_count": null,
   "metadata": {},
   "outputs": [],
   "source": [
    "teams2 = {'Arizona': 'Diamondbacks', 'Atlanta': 'Braves',\n",
    "          'Boston': 'Red Sox'}"
   ]
  },
  {
   "cell_type": "code",
   "execution_count": null,
   "metadata": {},
   "outputs": [],
   "source": [
    "teams2"
   ]
  },
  {
   "cell_type": "markdown",
   "metadata": {},
   "source": [
    "Create a dictionary from a list of tuples (first value is the key, second value is the value)"
   ]
  },
  {
   "cell_type": "code",
   "execution_count": null,
   "metadata": {},
   "outputs": [],
   "source": [
    "teams3 = dict([\n",
    "    ('Arizona','Diamondbacks'), ('Atlanta','Braves'),\n",
    "    ('Baltimore','Orioles'), ('Boston','Red Sox'),\n",
    "    ('Cincinnati','Reds'), ('Cleveland','Indians'),\n",
    "    ('Colorado','Rockies'), ('Detroit','Tigers'),\n",
    "    ('Houston','Astros'), ('Kansas City','Royals'),\n",
    "    ('Miami','Marlins'), ('Milwaukee','Brewers'),\n",
    "    ('Minnesota','Twins'), ('Oakland','Athletics'),\n",
    "    ('Philadelphia','Phillies'), ('Pittsburgh','Pirates'),\n",
    "    ('San Diego','Padres'), ('San Francisco','Giants'),\n",
    "    ('Seattle','Mariners'), ('St. Louis','Cardinals'),\n",
    "    ('Tampa Bay','Rays'), ('Texas','Rangers'),\n",
    "    ('Toronto','Blue Jays'), ('Washington','Nationals')\n",
    "    ])"
   ]
  },
  {
   "cell_type": "code",
   "execution_count": null,
   "metadata": {},
   "outputs": [],
   "source": [
    "teams3['Chicago']='White Sox'\n",
    "teams3['Chicago']='Cubs'"
   ]
  },
  {
   "cell_type": "code",
   "execution_count": null,
   "metadata": {},
   "outputs": [],
   "source": [
    "teams3"
   ]
  },
  {
   "cell_type": "code",
   "execution_count": null,
   "metadata": {},
   "outputs": [],
   "source": [
    "type(teams3)"
   ]
  },
  {
   "cell_type": "markdown",
   "metadata": {},
   "source": [
    "Let's flip the entries in the list so we can have non-duplicate keys."
   ]
  },
  {
   "cell_type": "code",
   "execution_count": null,
   "metadata": {},
   "outputs": [],
   "source": [
    "mlb = dict()\n",
    "for team in raw:\n",
    "    key=team[1]\n",
    "    value=team[0]\n",
    "    mlb[key]=value    "
   ]
  },
  {
   "cell_type": "code",
   "execution_count": null,
   "metadata": {},
   "outputs": [],
   "source": [
    "mlb"
   ]
  },
  {
   "cell_type": "markdown",
   "metadata": {},
   "source": [
    "Iterating through the dictionary for unpacking and a for loop"
   ]
  },
  {
   "cell_type": "code",
   "execution_count": null,
   "metadata": {},
   "outputs": [],
   "source": [
    "for name, geo in mlb.items():\n",
    "    print(f'{geo} hosts the {name}.')"
   ]
  },
  {
   "cell_type": "markdown",
   "metadata": {},
   "source": [
    "Using pop() to remove a key/value pair."
   ]
  },
  {
   "cell_type": "code",
   "execution_count": null,
   "metadata": {},
   "outputs": [],
   "source": [
    "mlb.pop('Tigers')"
   ]
  },
  {
   "cell_type": "code",
   "execution_count": null,
   "metadata": {},
   "outputs": [],
   "source": [
    "mlb"
   ]
  },
  {
   "cell_type": "markdown",
   "metadata": {},
   "source": [
    "keys() and values()"
   ]
  },
  {
   "cell_type": "code",
   "execution_count": null,
   "metadata": {},
   "outputs": [],
   "source": [
    "for team in mlb.keys():\n",
    "    print(team)"
   ]
  },
  {
   "cell_type": "code",
   "execution_count": null,
   "metadata": {},
   "outputs": [],
   "source": [
    "for team in mlb.values():\n",
    "    print(team)"
   ]
  },
  {
   "cell_type": "markdown",
   "metadata": {},
   "source": [
    "Converting dictionary back to lists - keys(), values(), tuples()"
   ]
  },
  {
   "cell_type": "code",
   "execution_count": null,
   "metadata": {},
   "outputs": [],
   "source": [
    "mlb.keys()"
   ]
  },
  {
   "cell_type": "code",
   "execution_count": null,
   "metadata": {},
   "outputs": [],
   "source": [
    "teamnames = list(mlb.keys())"
   ]
  },
  {
   "cell_type": "code",
   "execution_count": null,
   "metadata": {},
   "outputs": [],
   "source": [
    "type(teamnames)"
   ]
  },
  {
   "cell_type": "markdown",
   "metadata": {},
   "source": [
    "Dictionary comprehensions (have to use .items())"
   ]
  },
  {
   "cell_type": "code",
   "execution_count": null,
   "metadata": {},
   "outputs": [],
   "source": [
    "{team for team, geo in mlb.items()}"
   ]
  }
 ],
 "metadata": {
  "kernelspec": {
   "display_name": "Python 3",
   "language": "python",
   "name": "python3"
  },
  "language_info": {
   "codemirror_mode": {
    "name": "ipython",
    "version": 3
   },
   "file_extension": ".py",
   "mimetype": "text/x-python",
   "name": "python",
   "nbconvert_exporter": "python",
   "pygments_lexer": "ipython3",
   "version": "3.8.5"
  },
  "toc": {
   "base_numbering": 1,
   "nav_menu": {},
   "number_sections": true,
   "sideBar": true,
   "skip_h1_title": false,
   "title_cell": "Table of Contents",
   "title_sidebar": "Contents",
   "toc_cell": false,
   "toc_position": {},
   "toc_section_display": true,
   "toc_window_display": false
  }
 },
 "nbformat": 4,
 "nbformat_minor": 4
}
