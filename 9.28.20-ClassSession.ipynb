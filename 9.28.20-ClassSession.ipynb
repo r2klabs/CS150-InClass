{
 "cells": [
  {
   "cell_type": "markdown",
   "metadata": {},
   "source": [
    "# Working with Lists - Part 3\n",
    "Sample lists: \n",
    "- 'lastName','firstName',  'timesAtBat', 'hits', 'homeRuns', 'runs', 'rbi', 'walks', 'years', 'careerTimesAtBat', 'careerHits', 'careerHomeRuns', 'careerRuns', 'careerRBI', 'careerWalks'\n",
    "- 'Balboni','Steve',512,117,29,54,88,43,6,1750,412,100,204,276,155\n",
    "- 'Bochte','Bruce',407,104,6,57,43,65,12,5233,1478,100,643,658,653\n",
    "- 'Bream','Sid',522,140,16,73,77,60,4,730,185,22,93,106,86"
   ]
  },
  {
   "cell_type": "code",
   "execution_count": 3,
   "metadata": {},
   "outputs": [],
   "source": [
    "header = ['lastName','firstName', 'timesAtBat', 'hits', 'homeRuns', \n",
    "           'runs', 'rbi', 'walks', 'years', 'careerTimesAtBat', \n",
    "           'careerHits', 'careerHomeRuns', 'careerRuns', 'careerRBI', \n",
    "           'careerWalks']\n",
    "steve = ['Balboni','Steve',512,117,29,54,88,43,6,1750,412,100,204,276,155]\n",
    "bruce = ['Bochte','Bruce',407,104,6,57,43,65,12,5233,1478,100,643,658,653]\n",
    "sid = ['Bream','Sid',522,140,16,73,77,60,4,730,185,22,93,106,86]\n",
    "\n",
    "players =[\n",
    "        ('Balboni','Steve',[512,117,29,54,88,43,6,1750,412,100,204,276,155]),\n",
    "        ('Bochte','Bruce',[407,104,6,57,43,65,12,5233,1478,100,643,658,653]),\n",
    "        ('Bream','Sid',[522,140,16,73,77,60,4,730,185,22,93,106,86])    \n",
    "]"
   ]
  },
  {
   "cell_type": "markdown",
   "metadata": {},
   "source": [
    "This example extracts the list from the first tuple in the players list (list in a tuple in a list)."
   ]
  },
  {
   "cell_type": "code",
   "execution_count": 4,
   "metadata": {},
   "outputs": [],
   "source": [
    "data = players[0][2]"
   ]
  },
  {
   "cell_type": "code",
   "execution_count": null,
   "metadata": {},
   "outputs": [],
   "source": [
    "#sum(data)\n",
    "sum(players[0][2])"
   ]
  },
  {
   "cell_type": "markdown",
   "metadata": {},
   "source": [
    "## Deleting Slices \n",
    "We looked at changing data slices in lists. We can also delete data from a sequence if necessary. You use the same syntax as you do with slicing."
   ]
  },
  {
   "cell_type": "code",
   "execution_count": 8,
   "metadata": {},
   "outputs": [
    {
     "name": "stdout",
     "output_type": "stream",
     "text": [
      "[54, 1750] "
     ]
    }
   ],
   "source": [
    "print(data, end=' ')"
   ]
  },
  {
   "cell_type": "markdown",
   "metadata": {},
   "source": [
    "Deleting slices of data from the list using slice notation."
   ]
  },
  {
   "cell_type": "code",
   "execution_count": 7,
   "metadata": {},
   "outputs": [],
   "source": [
    "del data[::2]\n",
    "del data[3:7]\n",
    "del data[-1]"
   ]
  },
  {
   "cell_type": "markdown",
   "metadata": {},
   "source": [
    "**del** can also be used to delete a variable completely from memory."
   ]
  },
  {
   "cell_type": "code",
   "execution_count": null,
   "metadata": {},
   "outputs": [],
   "source": [
    "del data"
   ]
  },
  {
   "cell_type": "code",
   "execution_count": null,
   "metadata": {},
   "outputs": [],
   "source": [
    "del header"
   ]
  },
  {
   "cell_type": "code",
   "execution_count": null,
   "metadata": {},
   "outputs": [],
   "source": [
    "header"
   ]
  },
  {
   "cell_type": "markdown",
   "metadata": {},
   "source": [
    "## Using enumerate()\n",
    "If you want to get the index and value for each element in a list, enumerate is perfect for this."
   ]
  },
  {
   "cell_type": "code",
   "execution_count": null,
   "metadata": {},
   "outputs": [],
   "source": [
    "list(enumerate(header))"
   ]
  },
  {
   "cell_type": "markdown",
   "metadata": {},
   "source": [
    "## List Functions\n",
    "The list object contains numerous functions we can use that operate on lists.\n",
    "- sort()  I typically use sorted() - sort() permantly sorts.\n",
    "- index()\n",
    "- in / not in  (not really a function, but logically belongs with the others\n",
    "- any / all\n",
    "- insert()\n",
    "- append()\n",
    "- extend()\n",
    "- remove()\n",
    "- clear()\n",
    "- count()\n",
    "- reverse()\n",
    "- copy()"
   ]
  },
  {
   "cell_type": "code",
   "execution_count": null,
   "metadata": {},
   "outputs": [],
   "source": [
    "data = players[0][2]\n",
    "print(data, end=' ')"
   ]
  },
  {
   "cell_type": "code",
   "execution_count": null,
   "metadata": {},
   "outputs": [],
   "source": [
    "data.insert(6,'Python')"
   ]
  },
  {
   "cell_type": "code",
   "execution_count": null,
   "metadata": {},
   "outputs": [],
   "source": [
    "data"
   ]
  },
  {
   "cell_type": "code",
   "execution_count": null,
   "metadata": {},
   "outputs": [],
   "source": [
    "data.index(89)"
   ]
  },
  {
   "cell_type": "code",
   "execution_count": null,
   "metadata": {},
   "outputs": [],
   "source": [
    "d = sorted(data)"
   ]
  },
  {
   "cell_type": "code",
   "execution_count": null,
   "metadata": {},
   "outputs": [],
   "source": [
    "d"
   ]
  }
 ],
 "metadata": {
  "kernelspec": {
   "display_name": "Python 3",
   "language": "python",
   "name": "python3"
  },
  "language_info": {
   "codemirror_mode": {
    "name": "ipython",
    "version": 3
   },
   "file_extension": ".py",
   "mimetype": "text/x-python",
   "name": "python",
   "nbconvert_exporter": "python",
   "pygments_lexer": "ipython3",
   "version": "3.8.5"
  },
  "toc": {
   "base_numbering": 1,
   "nav_menu": {},
   "number_sections": true,
   "sideBar": true,
   "skip_h1_title": false,
   "title_cell": "Table of Contents",
   "title_sidebar": "Contents",
   "toc_cell": false,
   "toc_position": {},
   "toc_section_display": true,
   "toc_window_display": false
  }
 },
 "nbformat": 4,
 "nbformat_minor": 4
}
