{
 "cells": [
  {
   "cell_type": "markdown",
   "metadata": {},
   "source": [
    "# Programming Assignment 1\n",
    "---\n",
    "**Author:** Robert Kelley  \n",
    "**Version:** 1.0  \n",
    "**Semester:** Fall 2020  \n",
    "\n",
    "This *notebook* contains my solution to **Programming Assignment 1**\n",
    "\n",
    "- Problem 1:  Awesome first solution.\n",
    "- Problem 2: Awesome second solution.\n",
    "- Problem 3: Awesome third solution."
   ]
  },
  {
   "cell_type": "code",
   "execution_count": null,
   "metadata": {},
   "outputs": [],
   "source": [
    "x = 12\n",
    "if x==12:\n",
    "    print(x)\n",
    "elif x>12:\n",
    "    print(x-22)\n",
    "#else block is optional\n",
    "else:\n",
    "    print(\"hello\")"
   ]
  },
  {
   "cell_type": "markdown",
   "metadata": {},
   "source": [
    "### Counter-controlled while loop"
   ]
  },
  {
   "cell_type": "code",
   "execution_count": null,
   "metadata": {},
   "outputs": [],
   "source": [
    "a = 1\n",
    "y==10\n",
    "stop = False\n",
    "while a<=10 or (stop and y==2):  \n",
    "    print(a)\n",
    "    a = a * 2 #this loop control condition can be any calculation"
   ]
  },
  {
   "cell_type": "markdown",
   "metadata": {},
   "source": [
    "### Sentinel-controlled while loop\n",
    "A sentinel is a value that you get from the user."
   ]
  },
  {
   "cell_type": "code",
   "execution_count": 2,
   "metadata": {},
   "outputs": [
    {
     "name": "stdout",
     "output_type": "stream",
     "text": [
      "Would you like to continue? y\n",
      "hello\n",
      "Would you like to continue? Y\n",
      "hello\n",
      "Would you like to continue? n\n"
     ]
    }
   ],
   "source": [
    "go = input(\"Would you like to continue? \")\n",
    "while go==\"y\" or go==\"Y\":\n",
    "    print(\"hello\")\n",
    "    go = input(\"Would you like to continue? \")"
   ]
  },
  {
   "cell_type": "markdown",
   "metadata": {},
   "source": [
    "### Combine If/While"
   ]
  },
  {
   "cell_type": "code",
   "execution_count": null,
   "metadata": {},
   "outputs": [],
   "source": [
    "number = int(input(\"Enter a number between 0 and 10\"))  #wrapping int around the input to convert to integer\n",
    "go = \"y\"\n",
    "while go==\"y\":\n",
    "    if number<=5:\n",
    "        print(\"low number\")\n",
    "    else:\n",
    "        print(\"high number\")\n",
    "    go = input(\"would you like to enter another number? y/n\")\n",
    "    if go==\"y\":\n",
    "        number = int(input(\"Enter a number between 0 and 10\"))  #wrapping int around the input to convert to integer"
   ]
  },
  {
   "cell_type": "markdown",
   "metadata": {},
   "source": [
    "The cell above and the cell below are equivalent.  The cell above uses a priming read, the cell below does not."
   ]
  },
  {
   "cell_type": "code",
   "execution_count": null,
   "metadata": {},
   "outputs": [],
   "source": [
    "go = \"y\"\n",
    "while go==\"y\":\n",
    "    number = int(input(\"Enter a number between 0 and 10\"))  #wrapping int around the input to convert to integer\n",
    "    if number<=5:\n",
    "        print(\"low number\")\n",
    "    else:\n",
    "        print(\"high number\")\n",
    "    go = input(\"would you like to enter another number? y/n\")"
   ]
  },
  {
   "cell_type": "code",
   "execution_count": null,
   "metadata": {},
   "outputs": [],
   "source": []
  }
 ],
 "metadata": {
  "kernelspec": {
   "display_name": "Python 3",
   "language": "python",
   "name": "python3"
  },
  "language_info": {
   "codemirror_mode": {
    "name": "ipython",
    "version": 3
   },
   "file_extension": ".py",
   "mimetype": "text/x-python",
   "name": "python",
   "nbconvert_exporter": "python",
   "pygments_lexer": "ipython3",
   "version": "3.8.3"
  },
  "toc": {
   "base_numbering": 1,
   "nav_menu": {},
   "number_sections": true,
   "sideBar": true,
   "skip_h1_title": false,
   "title_cell": "Table of Contents",
   "title_sidebar": "Contents",
   "toc_cell": false,
   "toc_position": {},
   "toc_section_display": true,
   "toc_window_display": false
  }
 },
 "nbformat": 4,
 "nbformat_minor": 4
}
