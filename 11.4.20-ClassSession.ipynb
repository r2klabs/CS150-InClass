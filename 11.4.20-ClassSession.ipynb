{
 "cells": [
  {
   "cell_type": "markdown",
   "metadata": {},
   "source": [
    "# Working with Files\n",
    "We will look at several ways to read/write files. For your last project, you will only need to read from a file."
   ]
  },
  {
   "cell_type": "code",
   "execution_count": null,
   "metadata": {},
   "outputs": [],
   "source": [
    "import os\n",
    "import json\n",
    "import csv"
   ]
  },
  {
   "cell_type": "markdown",
   "metadata": {},
   "source": [
    "## Don't use Pickle!\n",
    "Python contains a file reading/writing library that has been around for years. It is a security risk. Don't use it - especially if you are sharing files with other systems. Malicious code can be embedded in these files."
   ]
  },
  {
   "cell_type": "markdown",
   "metadata": {},
   "source": [
    "## Exceptions\n",
    "Catching errors (called exceptions in many programming languages) is useful when you can get bad input from the user. One common example is trying to open a file that doesn't exist."
   ]
  },
  {
   "cell_type": "code",
   "execution_count": null,
   "metadata": {},
   "outputs": [],
   "source": [
    "read_pm_data('america_pm.txt')"
   ]
  },
  {
   "cell_type": "code",
   "execution_count": null,
   "metadata": {},
   "outputs": [],
   "source": [
    "def read_pm_data(filename):\n",
    "    with open(filename, mode='r') as pm_data:\n",
    "        for record in pm_data:\n",
    "            fname, lname, years = record.split()\n",
    "            print(f'{lname}, {fname}: {years}')"
   ]
  },
  {
   "cell_type": "code",
   "execution_count": null,
   "metadata": {},
   "outputs": [],
   "source": [
    "def read_pm_data(filename):\n",
    "    try:\n",
    "        with open(filename, mode='r') as pm_data:\n",
    "            for record in pm_data:\n",
    "                fname, lname, years = record.split()\n",
    "                print(f'{lname}, {fname}: {years}')\n",
    "    except FileNotFoundError:\n",
    "        print('The filename you have specified does not exist')"
   ]
  },
  {
   "cell_type": "code",
   "execution_count": null,
   "metadata": {},
   "outputs": [],
   "source": [
    "num1 = int(input(\"Enter an integer (-1 to quit): \"))\n",
    "\n",
    "while num1>=0:\n",
    "\n",
    "    num2 = int(input(\"Enter a second integer\"))\n",
    "    try:\n",
    "        print(num1/num2)\n",
    "\n",
    "    except ZeroDivisionError:\n",
    "        print(\"Cannot divide by zero\")\n",
    "        \n",
    "    num1 = int(input(\"Enter an integer (-1 to quit): \"))"
   ]
  },
  {
   "cell_type": "code",
   "execution_count": null,
   "metadata": {},
   "outputs": [],
   "source": [
    "try:\n",
    "    import mypackage\n",
    "except ModuleNotFoundError:\n",
    "    print(\"This module is not available on this system\")    "
   ]
  },
  {
   "cell_type": "code",
   "execution_count": null,
   "metadata": {},
   "outputs": [],
   "source": [
    "import mypackage"
   ]
  },
  {
   "cell_type": "markdown",
   "metadata": {},
   "source": [
    "## Working with CSV files"
   ]
  },
  {
   "cell_type": "code",
   "execution_count": null,
   "metadata": {},
   "outputs": [],
   "source": [
    "with open('prime_ministers.csv', mode='w', newline='') as pm:\n",
    "    writer = csv.writer(pm)\n",
    "    writer.writerow(['Stephen','Harper','2006-2015','CA'])\n",
    "    writer.writerow(['Paul','Martin','2003-2006','CA'])\n",
    "    writer.writerow(['Jean','Chretien','1993-2003','CA'])\n",
    "    writer.writerow(['Kim','Campbell','1993-1993','CA'])\n",
    "    writer.writerow(['Brian','Mulroney','1984-1993','CA'])\n",
    "    writer.writerow(['John','Turner','1984-1984','CA'])\n",
    "    writer.writerow(['Mohamad','Mahathir','2018-2020','MA'])\n",
    "    writer.writerow(['Raza','Najib','2009-2018','MA'])\n",
    "    writer.writerow(['Badawi','Abdullah','2003-2009','MA'])\n",
    "    writer.writerow(['Mohamad','Mahathir','1981-2003','MA'])\n",
    "    writer.writerow(['Onn','Hussein','1976-1981','MA'])       "
   ]
  },
  {
   "cell_type": "code",
   "execution_count": null,
   "metadata": {},
   "outputs": [],
   "source": [
    "with open('prime_ministers.csv', mode='r', newline='') as pm:\n",
    "    reader = csv.reader(pm)\n",
    "    for record in reader:\n",
    "        fname, lname, years, country = record\n",
    "        if(country=='CA'):\n",
    "            print(fname + ' ' + lname + ', ' + years)"
   ]
  },
  {
   "cell_type": "markdown",
   "metadata": {},
   "source": [
    "## Working with Pandas"
   ]
  },
  {
   "cell_type": "code",
   "execution_count": null,
   "metadata": {},
   "outputs": [],
   "source": [
    "import pandas as pd\n",
    "import numpy as np"
   ]
  },
  {
   "cell_type": "code",
   "execution_count": null,
   "metadata": {},
   "outputs": [],
   "source": [
    "data = pd.read_csv('prime_ministers.csv', header=None)  #This is a dataframe"
   ]
  },
  {
   "cell_type": "code",
   "execution_count": null,
   "metadata": {},
   "outputs": [],
   "source": [
    "data.columns = ['fname','lname','years','country']"
   ]
  },
  {
   "cell_type": "code",
   "execution_count": null,
   "metadata": {},
   "outputs": [],
   "source": [
    "start = np.array([int(y[:4]) for y in data['years']])"
   ]
  },
  {
   "cell_type": "code",
   "execution_count": null,
   "metadata": {},
   "outputs": [],
   "source": [
    "end = np.array([int(y[5:9]) for y in data['years']])"
   ]
  },
  {
   "cell_type": "code",
   "execution_count": null,
   "metadata": {},
   "outputs": [],
   "source": [
    "end - start"
   ]
  },
  {
   "cell_type": "code",
   "execution_count": null,
   "metadata": {},
   "outputs": [],
   "source": [
    "data['term_length'] = end -start"
   ]
  },
  {
   "cell_type": "code",
   "execution_count": null,
   "metadata": {},
   "outputs": [],
   "source": [
    "len(data)"
   ]
  }
 ],
 "metadata": {
  "kernelspec": {
   "display_name": "Python 3",
   "language": "python",
   "name": "python3"
  },
  "language_info": {
   "codemirror_mode": {
    "name": "ipython",
    "version": 3
   },
   "file_extension": ".py",
   "mimetype": "text/x-python",
   "name": "python",
   "nbconvert_exporter": "python",
   "pygments_lexer": "ipython3",
   "version": "3.8.5"
  },
  "toc": {
   "base_numbering": 1,
   "nav_menu": {},
   "number_sections": true,
   "sideBar": true,
   "skip_h1_title": false,
   "title_cell": "Table of Contents",
   "title_sidebar": "Contents",
   "toc_cell": false,
   "toc_position": {},
   "toc_section_display": true,
   "toc_window_display": false
  }
 },
 "nbformat": 4,
 "nbformat_minor": 4
}
