{
 "cells": [
  {
   "cell_type": "markdown",
   "metadata": {},
   "source": [
    "# Working with Files\n",
    "We will look at several ways to read/write files. For your last project, you will only need to read from a file."
   ]
  },
  {
   "cell_type": "code",
   "execution_count": null,
   "metadata": {},
   "outputs": [],
   "source": [
    "import os\n",
    "import json\n",
    "import csv"
   ]
  },
  {
   "cell_type": "markdown",
   "metadata": {},
   "source": [
    "## Writing to a text File\n",
    "- with\n",
    "- mode (w)\n",
    "- as"
   ]
  },
  {
   "cell_type": "code",
   "execution_count": null,
   "metadata": {},
   "outputs": [],
   "source": [
    "with open(\"malaysia_pm.txt\", mode='w') as may_pm:\n",
    "    may_pm.write('Mahathir Mohamad 2018-2020\\n')\n",
    "    may_pm.write('Najib Raza 2009-2018\\n')\n",
    "    may_pm.write('Abdullah Badawi 2003-2009\\n')\n",
    "    may_pm.write('Mahathir Mohamad 1981-2003\\n')\n",
    "    may_pm.write('Hussein Onn 1976-1981\\n')    "
   ]
  },
  {
   "cell_type": "code",
   "execution_count": null,
   "metadata": {},
   "outputs": [],
   "source": [
    "with open(\"canada_pm.txt\", mode='w') as can_pm:\n",
    "    print('Stephen Harper 2006-2015',file=can_pm)\n",
    "    print('Paul Martin 2003-2006',file=can_pm)\n",
    "    print('Jean Chretien 1993-2003', file=can_pm)\n",
    "    print('Kim Campbell 1993-1993',file=can_pm)\n",
    "    print('Brian Mulroney 1984-1993',file=can_pm)\n",
    "    print('John Turner 1984-1984',file=can_pm)"
   ]
  },
  {
   "cell_type": "markdown",
   "metadata": {},
   "source": [
    "## Reading from a text file\n",
    "- with\n",
    "- mode (r)\n",
    "- as"
   ]
  },
  {
   "cell_type": "code",
   "execution_count": null,
   "metadata": {},
   "outputs": [],
   "source": [
    "with open(\"malaysia_pm.txt\", mode='r') as pm_data:\n",
    "    for record in pm_data:\n",
    "        fname, lname, years = record.split()\n",
    "        print(f'{lname.upper()}, {fname.upper()}: {years}')"
   ]
  },
  {
   "cell_type": "markdown",
   "metadata": {},
   "source": [
    "Let's turn that code into a function so we can pass either file to it."
   ]
  },
  {
   "cell_type": "code",
   "execution_count": null,
   "metadata": {},
   "outputs": [],
   "source": [
    "def read_pm_data(filename):\n",
    "    with open(filename, mode='r') as pm_data:\n",
    "        for record in pm_data:\n",
    "            fname, lname, years = record.split()\n",
    "            print(f'{lname}, {fname}: {years}')"
   ]
  },
  {
   "cell_type": "code",
   "execution_count": null,
   "metadata": {},
   "outputs": [],
   "source": [
    "read_pm_data('canada_pm.txt')"
   ]
  },
  {
   "cell_type": "code",
   "execution_count": null,
   "metadata": {},
   "outputs": [],
   "source": [
    "read_pm_data('malaysia_pm.txt')"
   ]
  },
  {
   "cell_type": "markdown",
   "metadata": {},
   "source": [
    "# Reading a file using readlines()"
   ]
  },
  {
   "cell_type": "code",
   "execution_count": null,
   "metadata": {},
   "outputs": [],
   "source": [
    "data = []\n",
    "with open(\"malaysia_pm.txt\", mode='r') as pm_data:\n",
    "    data = pm_data.readlines()"
   ]
  },
  {
   "cell_type": "code",
   "execution_count": null,
   "metadata": {},
   "outputs": [],
   "source": [
    "data[0]"
   ]
  },
  {
   "cell_type": "code",
   "execution_count": null,
   "metadata": {},
   "outputs": [],
   "source": [
    "for r in data:\n",
    "    r.replace('\\n','')\n",
    "    print(r)"
   ]
  },
  {
   "cell_type": "markdown",
   "metadata": {},
   "source": [
    "## Updating a file"
   ]
  },
  {
   "cell_type": "code",
   "execution_count": null,
   "metadata": {},
   "outputs": [],
   "source": [
    "can_pm = open('canada_pm.txt','r')\n",
    "temp_file = open('temp_file.txt', 'w')\n",
    "\n",
    "with can_pm, temp_file:\n",
    "    for record in can_pm:\n",
    "        fname,lname,years = record.split()\n",
    "        if fname!='Stephen':\n",
    "            temp_file.write(record)\n",
    "        else:\n",
    "            new_record = ' '.join(['Dylan', 'Tulett', years])\n",
    "            temp_file.write(new_record+'\\n')\n",
    "            \n",
    "os.remove('canada_pm.txt')\n",
    "os.rename('temp_file.txt','canada_pm.txt')"
   ]
  },
  {
   "cell_type": "markdown",
   "metadata": {},
   "source": [
    "## Working with JSON files"
   ]
  },
  {
   "cell_type": "code",
   "execution_count": null,
   "metadata": {},
   "outputs": [],
   "source": [
    "prime_ministers = { 'malaysia': [\n",
    " \n",
    "    {'fname': 'Mohamad','lname': 'Mahathir','years': '2018-2020'},\n",
    "    {'fname': 'Raza','lname': 'Najib','years': '2009-2018'},\n",
    "    {'fname': 'Badawi','lname': 'Abdullah','years': '2003-2009'},\n",
    "    {'fname': 'Mohamad','lname': 'Mahathir','years': '1981-2003'},\n",
    "    {'fname': 'Onn','lname': 'Hussein','years': '1976-1981'}   \n",
    "], 'canada':[\n",
    "    \n",
    "    {'fname': 'Stephen','lname': 'Harper','years': '2006-2015'},\n",
    "    {'fname': 'Martin','lname': 'Paul','years': '2003-2006'},\n",
    "    {'fname': 'Jean','lname': 'Chretien','years': '1993-2003'},\n",
    "    {'fname': 'Kim','lname': 'Campbell','years': '1993-1993'},\n",
    "    {'fname': 'Brian','lname': 'Mulroney','years': '1984-1993'}       \n",
    "]}"
   ]
  },
  {
   "cell_type": "code",
   "execution_count": null,
   "metadata": {},
   "outputs": [],
   "source": [
    "prime_ministers"
   ]
  },
  {
   "cell_type": "code",
   "execution_count": null,
   "metadata": {},
   "outputs": [],
   "source": [
    "type(prime_ministers['malaysia'][0])"
   ]
  },
  {
   "cell_type": "markdown",
   "metadata": {},
   "source": [
    "### Writing JSON file"
   ]
  },
  {
   "cell_type": "code",
   "execution_count": null,
   "metadata": {},
   "outputs": [],
   "source": [
    "with open('prime_ministers.json', 'w') as pm:\n",
    "    json.dump(prime_ministers, pm)"
   ]
  },
  {
   "cell_type": "markdown",
   "metadata": {},
   "source": [
    "### Reading JSON file"
   ]
  },
  {
   "cell_type": "code",
   "execution_count": null,
   "metadata": {},
   "outputs": [],
   "source": [
    "with open('prime_ministers.json', 'r') as pm:\n",
    "    primes = json.load(pm)"
   ]
  },
  {
   "cell_type": "code",
   "execution_count": null,
   "metadata": {},
   "outputs": [],
   "source": [
    "primes"
   ]
  },
  {
   "cell_type": "code",
   "execution_count": null,
   "metadata": {},
   "outputs": [],
   "source": [
    "with open('prime_ministers.json', 'r') as pm:\n",
    "    print(json.dumps(json.load(pm), indent=4))"
   ]
  }
 ],
 "metadata": {
  "kernelspec": {
   "display_name": "Python 3",
   "language": "python",
   "name": "python3"
  },
  "language_info": {
   "codemirror_mode": {
    "name": "ipython",
    "version": 3
   },
   "file_extension": ".py",
   "mimetype": "text/x-python",
   "name": "python",
   "nbconvert_exporter": "python",
   "pygments_lexer": "ipython3",
   "version": "3.8.5"
  },
  "toc": {
   "base_numbering": 1,
   "nav_menu": {},
   "number_sections": true,
   "sideBar": true,
   "skip_h1_title": false,
   "title_cell": "Table of Contents",
   "title_sidebar": "Contents",
   "toc_cell": false,
   "toc_position": {},
   "toc_section_display": true,
   "toc_window_display": false
  }
 },
 "nbformat": 4,
 "nbformat_minor": 4
}
